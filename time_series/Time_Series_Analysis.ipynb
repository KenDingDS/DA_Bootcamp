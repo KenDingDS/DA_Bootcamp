{
 "cells": [
  {
   "cell_type": "markdown",
   "metadata": {},
   "source": [
    "## Time Seriess Analysis in Python"
   ]
  },
  {
   "cell_type": "code",
   "execution_count": 2,
   "metadata": {},
   "outputs": [],
   "source": [
    "import numpy as np\n",
    "import pandas as pd\n",
    "import matplotlib.pyplot as plt"
   ]
  },
  {
   "cell_type": "markdown",
   "metadata": {},
   "source": [
    "#### 1.Correlation of two time series"
   ]
  },
  {
   "cell_type": "markdown",
   "metadata": {},
   "source": [
    "Import data:\n",
    "\n",
    "    - Dow Jones data\n",
    "    \n",
    "    - UFO Sightings"
   ]
  },
  {
   "cell_type": "code",
   "execution_count": 3,
   "metadata": {},
   "outputs": [],
   "source": [
    "dji=pd.read_csv('./data/DJI.csv')"
   ]
  },
  {
   "cell_type": "code",
   "execution_count": 4,
   "metadata": {},
   "outputs": [],
   "source": [
    "UFO=pd.read_csv('./data/UFO.csv')"
   ]
  },
  {
   "cell_type": "code",
   "execution_count": 5,
   "metadata": {},
   "outputs": [
    {
     "data": {
      "text/html": [
       "<div>\n",
       "<style scoped>\n",
       "    .dataframe tbody tr th:only-of-type {\n",
       "        vertical-align: middle;\n",
       "    }\n",
       "\n",
       "    .dataframe tbody tr th {\n",
       "        vertical-align: top;\n",
       "    }\n",
       "\n",
       "    .dataframe thead th {\n",
       "        text-align: right;\n",
       "    }\n",
       "</style>\n",
       "<table border=\"1\" class=\"dataframe\">\n",
       "  <thead>\n",
       "    <tr style=\"text-align: right;\">\n",
       "      <th></th>\n",
       "      <th>Date</th>\n",
       "      <th>Value</th>\n",
       "    </tr>\n",
       "  </thead>\n",
       "  <tbody>\n",
       "    <tr>\n",
       "      <th>0</th>\n",
       "      <td>1941</td>\n",
       "      <td>110.96</td>\n",
       "    </tr>\n",
       "    <tr>\n",
       "      <th>1</th>\n",
       "      <td>1942</td>\n",
       "      <td>119.40</td>\n",
       "    </tr>\n",
       "    <tr>\n",
       "      <th>2</th>\n",
       "      <td>1943</td>\n",
       "      <td>135.89</td>\n",
       "    </tr>\n",
       "    <tr>\n",
       "      <th>3</th>\n",
       "      <td>1944</td>\n",
       "      <td>152.32</td>\n",
       "    </tr>\n",
       "    <tr>\n",
       "      <th>4</th>\n",
       "      <td>1945</td>\n",
       "      <td>192.91</td>\n",
       "    </tr>\n",
       "  </tbody>\n",
       "</table>\n",
       "</div>"
      ],
      "text/plain": [
       "   Date   Value\n",
       "0  1941  110.96\n",
       "1  1942  119.40\n",
       "2  1943  135.89\n",
       "3  1944  152.32\n",
       "4  1945  192.91"
      ]
     },
     "execution_count": 5,
     "metadata": {},
     "output_type": "execute_result"
    }
   ],
   "source": [
    "dji.head()"
   ]
  },
  {
   "cell_type": "code",
   "execution_count": 6,
   "metadata": {},
   "outputs": [],
   "source": [
    "#rename column\n",
    "dji=dji.rename(columns={\"Value\": \"DJI\"})"
   ]
  },
  {
   "cell_type": "code",
   "execution_count": 7,
   "metadata": {},
   "outputs": [
    {
     "data": {
      "text/html": [
       "<div>\n",
       "<style scoped>\n",
       "    .dataframe tbody tr th:only-of-type {\n",
       "        vertical-align: middle;\n",
       "    }\n",
       "\n",
       "    .dataframe tbody tr th {\n",
       "        vertical-align: top;\n",
       "    }\n",
       "\n",
       "    .dataframe thead th {\n",
       "        text-align: right;\n",
       "    }\n",
       "</style>\n",
       "<table border=\"1\" class=\"dataframe\">\n",
       "  <thead>\n",
       "    <tr style=\"text-align: right;\">\n",
       "      <th></th>\n",
       "      <th>Date</th>\n",
       "      <th>Value</th>\n",
       "    </tr>\n",
       "  </thead>\n",
       "  <tbody>\n",
       "    <tr>\n",
       "      <th>0</th>\n",
       "      <td>1941</td>\n",
       "      <td>1</td>\n",
       "    </tr>\n",
       "    <tr>\n",
       "      <th>1</th>\n",
       "      <td>1942</td>\n",
       "      <td>2</td>\n",
       "    </tr>\n",
       "    <tr>\n",
       "      <th>2</th>\n",
       "      <td>1943</td>\n",
       "      <td>9</td>\n",
       "    </tr>\n",
       "    <tr>\n",
       "      <th>3</th>\n",
       "      <td>1944</td>\n",
       "      <td>9</td>\n",
       "    </tr>\n",
       "    <tr>\n",
       "      <th>4</th>\n",
       "      <td>1945</td>\n",
       "      <td>9</td>\n",
       "    </tr>\n",
       "  </tbody>\n",
       "</table>\n",
       "</div>"
      ],
      "text/plain": [
       "   Date  Value\n",
       "0  1941      1\n",
       "1  1942      2\n",
       "2  1943      9\n",
       "3  1944      9\n",
       "4  1945      9"
      ]
     },
     "execution_count": 7,
     "metadata": {},
     "output_type": "execute_result"
    }
   ],
   "source": [
    "UFO.head()"
   ]
  },
  {
   "cell_type": "code",
   "execution_count": 8,
   "metadata": {},
   "outputs": [],
   "source": [
    "#rename column\n",
    "UFO=UFO.rename(columns={\"Value\": \"UFO\"})"
   ]
  },
  {
   "cell_type": "code",
   "execution_count": 9,
   "metadata": {},
   "outputs": [],
   "source": [
    "#join the data\n",
    "stocks_and_ufo = dji.merge(UFO, how='inner', on='Date')"
   ]
  },
  {
   "cell_type": "code",
   "execution_count": 10,
   "metadata": {},
   "outputs": [
    {
     "data": {
      "text/html": [
       "<div>\n",
       "<style scoped>\n",
       "    .dataframe tbody tr th:only-of-type {\n",
       "        vertical-align: middle;\n",
       "    }\n",
       "\n",
       "    .dataframe tbody tr th {\n",
       "        vertical-align: top;\n",
       "    }\n",
       "\n",
       "    .dataframe thead th {\n",
       "        text-align: right;\n",
       "    }\n",
       "</style>\n",
       "<table border=\"1\" class=\"dataframe\">\n",
       "  <thead>\n",
       "    <tr style=\"text-align: right;\">\n",
       "      <th></th>\n",
       "      <th>Date</th>\n",
       "      <th>DJI</th>\n",
       "      <th>UFO</th>\n",
       "    </tr>\n",
       "  </thead>\n",
       "  <tbody>\n",
       "    <tr>\n",
       "      <th>0</th>\n",
       "      <td>1941</td>\n",
       "      <td>110.96</td>\n",
       "      <td>1</td>\n",
       "    </tr>\n",
       "    <tr>\n",
       "      <th>1</th>\n",
       "      <td>1942</td>\n",
       "      <td>119.40</td>\n",
       "      <td>2</td>\n",
       "    </tr>\n",
       "    <tr>\n",
       "      <th>2</th>\n",
       "      <td>1943</td>\n",
       "      <td>135.89</td>\n",
       "      <td>9</td>\n",
       "    </tr>\n",
       "    <tr>\n",
       "      <th>3</th>\n",
       "      <td>1944</td>\n",
       "      <td>152.32</td>\n",
       "      <td>9</td>\n",
       "    </tr>\n",
       "    <tr>\n",
       "      <th>4</th>\n",
       "      <td>1945</td>\n",
       "      <td>192.91</td>\n",
       "      <td>9</td>\n",
       "    </tr>\n",
       "    <tr>\n",
       "      <th>...</th>\n",
       "      <td>...</td>\n",
       "      <td>...</td>\n",
       "      <td>...</td>\n",
       "    </tr>\n",
       "    <tr>\n",
       "      <th>68</th>\n",
       "      <td>2009</td>\n",
       "      <td>10428.05</td>\n",
       "      <td>4541</td>\n",
       "    </tr>\n",
       "    <tr>\n",
       "      <th>69</th>\n",
       "      <td>2010</td>\n",
       "      <td>11577.51</td>\n",
       "      <td>4283</td>\n",
       "    </tr>\n",
       "    <tr>\n",
       "      <th>70</th>\n",
       "      <td>2011</td>\n",
       "      <td>12217.56</td>\n",
       "      <td>5107</td>\n",
       "    </tr>\n",
       "    <tr>\n",
       "      <th>71</th>\n",
       "      <td>2012</td>\n",
       "      <td>13104.14</td>\n",
       "      <td>7357</td>\n",
       "    </tr>\n",
       "    <tr>\n",
       "      <th>72</th>\n",
       "      <td>2013</td>\n",
       "      <td>16576.66</td>\n",
       "      <td>7037</td>\n",
       "    </tr>\n",
       "  </tbody>\n",
       "</table>\n",
       "<p>73 rows × 3 columns</p>\n",
       "</div>"
      ],
      "text/plain": [
       "    Date       DJI   UFO\n",
       "0   1941    110.96     1\n",
       "1   1942    119.40     2\n",
       "2   1943    135.89     9\n",
       "3   1944    152.32     9\n",
       "4   1945    192.91     9\n",
       "..   ...       ...   ...\n",
       "68  2009  10428.05  4541\n",
       "69  2010  11577.51  4283\n",
       "70  2011  12217.56  5107\n",
       "71  2012  13104.14  7357\n",
       "72  2013  16576.66  7037\n",
       "\n",
       "[73 rows x 3 columns]"
      ]
     },
     "execution_count": 10,
     "metadata": {},
     "output_type": "execute_result"
    }
   ],
   "source": [
    "stocks_and_ufo"
   ]
  },
  {
   "cell_type": "code",
   "execution_count": 11,
   "metadata": {},
   "outputs": [],
   "source": [
    "stocks_and_ufo=stocks_and_ufo.set_index('Date')"
   ]
  },
  {
   "cell_type": "code",
   "execution_count": 12,
   "metadata": {},
   "outputs": [
    {
     "data": {
      "text/html": [
       "<div>\n",
       "<style scoped>\n",
       "    .dataframe tbody tr th:only-of-type {\n",
       "        vertical-align: middle;\n",
       "    }\n",
       "\n",
       "    .dataframe tbody tr th {\n",
       "        vertical-align: top;\n",
       "    }\n",
       "\n",
       "    .dataframe thead th {\n",
       "        text-align: right;\n",
       "    }\n",
       "</style>\n",
       "<table border=\"1\" class=\"dataframe\">\n",
       "  <thead>\n",
       "    <tr style=\"text-align: right;\">\n",
       "      <th></th>\n",
       "      <th>DJI</th>\n",
       "      <th>UFO</th>\n",
       "    </tr>\n",
       "    <tr>\n",
       "      <th>Date</th>\n",
       "      <th></th>\n",
       "      <th></th>\n",
       "    </tr>\n",
       "  </thead>\n",
       "  <tbody>\n",
       "    <tr>\n",
       "      <th>1941</th>\n",
       "      <td>110.96</td>\n",
       "      <td>1</td>\n",
       "    </tr>\n",
       "    <tr>\n",
       "      <th>1942</th>\n",
       "      <td>119.40</td>\n",
       "      <td>2</td>\n",
       "    </tr>\n",
       "    <tr>\n",
       "      <th>1943</th>\n",
       "      <td>135.89</td>\n",
       "      <td>9</td>\n",
       "    </tr>\n",
       "    <tr>\n",
       "      <th>1944</th>\n",
       "      <td>152.32</td>\n",
       "      <td>9</td>\n",
       "    </tr>\n",
       "    <tr>\n",
       "      <th>1945</th>\n",
       "      <td>192.91</td>\n",
       "      <td>9</td>\n",
       "    </tr>\n",
       "    <tr>\n",
       "      <th>...</th>\n",
       "      <td>...</td>\n",
       "      <td>...</td>\n",
       "    </tr>\n",
       "    <tr>\n",
       "      <th>2009</th>\n",
       "      <td>10428.05</td>\n",
       "      <td>4541</td>\n",
       "    </tr>\n",
       "    <tr>\n",
       "      <th>2010</th>\n",
       "      <td>11577.51</td>\n",
       "      <td>4283</td>\n",
       "    </tr>\n",
       "    <tr>\n",
       "      <th>2011</th>\n",
       "      <td>12217.56</td>\n",
       "      <td>5107</td>\n",
       "    </tr>\n",
       "    <tr>\n",
       "      <th>2012</th>\n",
       "      <td>13104.14</td>\n",
       "      <td>7357</td>\n",
       "    </tr>\n",
       "    <tr>\n",
       "      <th>2013</th>\n",
       "      <td>16576.66</td>\n",
       "      <td>7037</td>\n",
       "    </tr>\n",
       "  </tbody>\n",
       "</table>\n",
       "<p>73 rows × 2 columns</p>\n",
       "</div>"
      ],
      "text/plain": [
       "           DJI   UFO\n",
       "Date                \n",
       "1941    110.96     1\n",
       "1942    119.40     2\n",
       "1943    135.89     9\n",
       "1944    152.32     9\n",
       "1945    192.91     9\n",
       "...        ...   ...\n",
       "2009  10428.05  4541\n",
       "2010  11577.51  4283\n",
       "2011  12217.56  5107\n",
       "2012  13104.14  7357\n",
       "2013  16576.66  7037\n",
       "\n",
       "[73 rows x 2 columns]"
      ]
     },
     "execution_count": 12,
     "metadata": {},
     "output_type": "execute_result"
    }
   ],
   "source": [
    "stocks_and_ufo"
   ]
  },
  {
   "cell_type": "code",
   "execution_count": 50,
   "metadata": {},
   "outputs": [
    {
     "data": {
      "image/png": "[encoded data removed]",
      "text/plain": [
       "<Figure size 432x288 with 1 Axes>"
      ]
     },
     "metadata": {
      "needs_background": "light"
     },
     "output_type": "display_data"
    }
   ],
   "source": [
    "#plot Dow Jones data\n",
    "plt.plot(stocks_and_ufo['DJI'], color = 'red', label = 'DJI')\n",
    "#plot UFO\n",
    "plt.plot(stocks_and_ufo['UFO'], color = 'blue',label = 'UFO')\n",
    "plt.legend()\n",
    "plt.show()"
   ]
  },
  {
   "cell_type": "code",
   "execution_count": 51,
   "metadata": {},
   "outputs": [
    {
     "data": {
      "image/png": "[encoded data removed]",
      "text/plain": [
       "<Figure size 432x288 with 1 Axes>"
      ]
     },
     "metadata": {
      "needs_background": "light"
     },
     "output_type": "display_data"
    }
   ],
   "source": [
    "#scatter plot\n",
    "plt.scatter(stocks_and_ufo['DJI'], stocks_and_ufo['UFO'])\n",
    "plt.show()"
   ]
  },
  {
   "cell_type": "code",
   "execution_count": 52,
   "metadata": {},
   "outputs": [
    {
     "name": "stdout",
     "output_type": "stream",
     "text": [
      "Correlation:  0.9399762210726428\n"
     ]
    }
   ],
   "source": [
    "# Compute the correlation\n",
    "correlation1 = stocks_and_ufo['DJI'].corr(stocks_and_ufo['UFO'])\n",
    "print(\"Correlation: \", correlation1)"
   ]
  },
  {
   "cell_type": "code",
   "execution_count": 13,
   "metadata": {},
   "outputs": [
    {
     "data": {
      "text/html": [
       "<div>\n",
       "<style scoped>\n",
       "    .dataframe tbody tr th:only-of-type {\n",
       "        vertical-align: middle;\n",
       "    }\n",
       "\n",
       "    .dataframe tbody tr th {\n",
       "        vertical-align: top;\n",
       "    }\n",
       "\n",
       "    .dataframe thead th {\n",
       "        text-align: right;\n",
       "    }\n",
       "</style>\n",
       "<table border=\"1\" class=\"dataframe\">\n",
       "  <thead>\n",
       "    <tr style=\"text-align: right;\">\n",
       "      <th></th>\n",
       "      <th>DJI</th>\n",
       "      <th>UFO</th>\n",
       "      <th>DJI_per</th>\n",
       "    </tr>\n",
       "    <tr>\n",
       "      <th>Date</th>\n",
       "      <th></th>\n",
       "      <th></th>\n",
       "      <th></th>\n",
       "    </tr>\n",
       "  </thead>\n",
       "  <tbody>\n",
       "    <tr>\n",
       "      <th>1941</th>\n",
       "      <td>110.96</td>\n",
       "      <td>1</td>\n",
       "      <td>NaN</td>\n",
       "    </tr>\n",
       "    <tr>\n",
       "      <th>1942</th>\n",
       "      <td>119.40</td>\n",
       "      <td>2</td>\n",
       "      <td>0.076063</td>\n",
       "    </tr>\n",
       "    <tr>\n",
       "      <th>1943</th>\n",
       "      <td>135.89</td>\n",
       "      <td>9</td>\n",
       "      <td>0.138107</td>\n",
       "    </tr>\n",
       "    <tr>\n",
       "      <th>1944</th>\n",
       "      <td>152.32</td>\n",
       "      <td>9</td>\n",
       "      <td>0.120907</td>\n",
       "    </tr>\n",
       "    <tr>\n",
       "      <th>1945</th>\n",
       "      <td>192.91</td>\n",
       "      <td>9</td>\n",
       "      <td>0.266478</td>\n",
       "    </tr>\n",
       "    <tr>\n",
       "      <th>...</th>\n",
       "      <td>...</td>\n",
       "      <td>...</td>\n",
       "      <td>...</td>\n",
       "    </tr>\n",
       "    <tr>\n",
       "      <th>2009</th>\n",
       "      <td>10428.05</td>\n",
       "      <td>4541</td>\n",
       "      <td>0.188194</td>\n",
       "    </tr>\n",
       "    <tr>\n",
       "      <th>2010</th>\n",
       "      <td>11577.51</td>\n",
       "      <td>4283</td>\n",
       "      <td>0.110228</td>\n",
       "    </tr>\n",
       "    <tr>\n",
       "      <th>2011</th>\n",
       "      <td>12217.56</td>\n",
       "      <td>5107</td>\n",
       "      <td>0.055284</td>\n",
       "    </tr>\n",
       "    <tr>\n",
       "      <th>2012</th>\n",
       "      <td>13104.14</td>\n",
       "      <td>7357</td>\n",
       "      <td>0.072566</td>\n",
       "    </tr>\n",
       "    <tr>\n",
       "      <th>2013</th>\n",
       "      <td>16576.66</td>\n",
       "      <td>7037</td>\n",
       "      <td>0.264994</td>\n",
       "    </tr>\n",
       "  </tbody>\n",
       "</table>\n",
       "<p>73 rows × 3 columns</p>\n",
       "</div>"
      ],
      "text/plain": [
       "           DJI   UFO   DJI_per\n",
       "Date                          \n",
       "1941    110.96     1       NaN\n",
       "1942    119.40     2  0.076063\n",
       "1943    135.89     9  0.138107\n",
       "1944    152.32     9  0.120907\n",
       "1945    192.91     9  0.266478\n",
       "...        ...   ...       ...\n",
       "2009  10428.05  4541  0.188194\n",
       "2010  11577.51  4283  0.110228\n",
       "2011  12217.56  5107  0.055284\n",
       "2012  13104.14  7357  0.072566\n",
       "2013  16576.66  7037  0.264994\n",
       "\n",
       "[73 rows x 3 columns]"
      ]
     },
     "execution_count": 13,
     "metadata": {},
     "output_type": "execute_result"
    }
   ],
   "source": [
    "# Compute correlation of percent changes\n",
    "stocks_and_ufo['DJI_per'] = stocks_and_ufo['DJI'].pct_change()\n",
    "stocks_and_ufo"
   ]
  },
  {
   "cell_type": "code",
   "execution_count": 55,
   "metadata": {},
   "outputs": [
    {
     "data": {
      "text/html": [
       "<div>\n",
       "<style scoped>\n",
       "    .dataframe tbody tr th:only-of-type {\n",
       "        vertical-align: middle;\n",
       "    }\n",
       "\n",
       "    .dataframe tbody tr th {\n",
       "        vertical-align: top;\n",
       "    }\n",
       "\n",
       "    .dataframe thead th {\n",
       "        text-align: right;\n",
       "    }\n",
       "</style>\n",
       "<table border=\"1\" class=\"dataframe\">\n",
       "  <thead>\n",
       "    <tr style=\"text-align: right;\">\n",
       "      <th></th>\n",
       "      <th>DJI</th>\n",
       "      <th>UFO</th>\n",
       "      <th>DJI_per</th>\n",
       "      <th>UFO_per</th>\n",
       "    </tr>\n",
       "    <tr>\n",
       "      <th>Date</th>\n",
       "      <th></th>\n",
       "      <th></th>\n",
       "      <th></th>\n",
       "      <th></th>\n",
       "    </tr>\n",
       "  </thead>\n",
       "  <tbody>\n",
       "    <tr>\n",
       "      <th>1941</th>\n",
       "      <td>110.96</td>\n",
       "      <td>1</td>\n",
       "      <td>NaN</td>\n",
       "      <td>NaN</td>\n",
       "    </tr>\n",
       "    <tr>\n",
       "      <th>1942</th>\n",
       "      <td>119.40</td>\n",
       "      <td>2</td>\n",
       "      <td>0.076063</td>\n",
       "      <td>1.000000</td>\n",
       "    </tr>\n",
       "    <tr>\n",
       "      <th>1943</th>\n",
       "      <td>135.89</td>\n",
       "      <td>9</td>\n",
       "      <td>0.138107</td>\n",
       "      <td>3.500000</td>\n",
       "    </tr>\n",
       "    <tr>\n",
       "      <th>1944</th>\n",
       "      <td>152.32</td>\n",
       "      <td>9</td>\n",
       "      <td>0.120907</td>\n",
       "      <td>0.000000</td>\n",
       "    </tr>\n",
       "    <tr>\n",
       "      <th>1945</th>\n",
       "      <td>192.91</td>\n",
       "      <td>9</td>\n",
       "      <td>0.266478</td>\n",
       "      <td>0.000000</td>\n",
       "    </tr>\n",
       "    <tr>\n",
       "      <th>...</th>\n",
       "      <td>...</td>\n",
       "      <td>...</td>\n",
       "      <td>...</td>\n",
       "      <td>...</td>\n",
       "    </tr>\n",
       "    <tr>\n",
       "      <th>2009</th>\n",
       "      <td>10428.05</td>\n",
       "      <td>4541</td>\n",
       "      <td>0.188194</td>\n",
       "      <td>-0.057884</td>\n",
       "    </tr>\n",
       "    <tr>\n",
       "      <th>2010</th>\n",
       "      <td>11577.51</td>\n",
       "      <td>4283</td>\n",
       "      <td>0.110228</td>\n",
       "      <td>-0.056816</td>\n",
       "    </tr>\n",
       "    <tr>\n",
       "      <th>2011</th>\n",
       "      <td>12217.56</td>\n",
       "      <td>5107</td>\n",
       "      <td>0.055284</td>\n",
       "      <td>0.192389</td>\n",
       "    </tr>\n",
       "    <tr>\n",
       "      <th>2012</th>\n",
       "      <td>13104.14</td>\n",
       "      <td>7357</td>\n",
       "      <td>0.072566</td>\n",
       "      <td>0.440572</td>\n",
       "    </tr>\n",
       "    <tr>\n",
       "      <th>2013</th>\n",
       "      <td>16576.66</td>\n",
       "      <td>7037</td>\n",
       "      <td>0.264994</td>\n",
       "      <td>-0.043496</td>\n",
       "    </tr>\n",
       "  </tbody>\n",
       "</table>\n",
       "<p>73 rows × 4 columns</p>\n",
       "</div>"
      ],
      "text/plain": [
       "           DJI   UFO   DJI_per   UFO_per\n",
       "Date                                    \n",
       "1941    110.96     1       NaN       NaN\n",
       "1942    119.40     2  0.076063  1.000000\n",
       "1943    135.89     9  0.138107  3.500000\n",
       "1944    152.32     9  0.120907  0.000000\n",
       "1945    192.91     9  0.266478  0.000000\n",
       "...        ...   ...       ...       ...\n",
       "2009  10428.05  4541  0.188194 -0.057884\n",
       "2010  11577.51  4283  0.110228 -0.056816\n",
       "2011  12217.56  5107  0.055284  0.192389\n",
       "2012  13104.14  7357  0.072566  0.440572\n",
       "2013  16576.66  7037  0.264994 -0.043496\n",
       "\n",
       "[73 rows x 4 columns]"
      ]
     },
     "execution_count": 55,
     "metadata": {},
     "output_type": "execute_result"
    }
   ],
   "source": [
    "stocks_and_ufo['UFO_per'] = stocks_and_ufo['UFO'].pct_change()\n",
    "stocks_and_ufo"
   ]
  },
  {
   "cell_type": "code",
   "execution_count": 57,
   "metadata": {},
   "outputs": [
    {
     "name": "stdout",
     "output_type": "stream",
     "text": [
      "Correlation of percent changes:  0.06026935462405373\n"
     ]
    }
   ],
   "source": [
    "correlation2 = stocks_and_ufo['UFO_per'].corr(stocks_and_ufo['DJI_per'])\n",
    "print(\"Correlation of percent changes: \", correlation2)"
   ]
  },
  {
   "cell_type": "markdown",
   "metadata": {},
   "source": [
    "**Common Mistake**: Correlation of Two Trending Series\n",
    "\n",
    "Consider two time series that are both trending. Even if the two series are totally unrelated, you could still get a very high correlation. That's why, in financial world, when you look at the correlation of say, two stocks, you should look at the correlation of their **returns**, not their levels. "
   ]
  },
  {
   "cell_type": "markdown",
   "metadata": {},
   "source": [
    "#### 2.Simple linear regressions of time series"
   ]
  },
  {
   "cell_type": "markdown",
   "metadata": {},
   "source": [
    "What is a Regression?\n",
    "\n",
    "A simple linear regression finds the slope, beta, and intercept, alpha, of a line that's the best fit between a dependent variable, y, and an independent variable, x. \n",
    "\n",
    "The x and y can be two time series.\n",
    "\n",
    "\n",
    "A linear regression is also known as **Ordinary Least Squares**, or OLS, because it minimizes the sum of the squared distances between the data points and the regression line."
   ]
  },
  {
   "cell_type": "code",
   "execution_count": 86,
   "metadata": {},
   "outputs": [],
   "source": [
    "#1.import 2 time series financial datasets - 'AMZN' and 'MSFT'\n",
    "#2.rename\n",
    "#3.join\n",
    "#4.change index\n",
    "x=pd.read_csv('./data/AMZN.csv')\n",
    "y=pd.read_csv('./data/MSFT.csv')"
   ]
  },
  {
   "cell_type": "code",
   "execution_count": 87,
   "metadata": {},
   "outputs": [
    {
     "data": {
      "text/html": [
       "<div>\n",
       "<style scoped>\n",
       "    .dataframe tbody tr th:only-of-type {\n",
       "        vertical-align: middle;\n",
       "    }\n",
       "\n",
       "    .dataframe tbody tr th {\n",
       "        vertical-align: top;\n",
       "    }\n",
       "\n",
       "    .dataframe thead th {\n",
       "        text-align: right;\n",
       "    }\n",
       "</style>\n",
       "<table border=\"1\" class=\"dataframe\">\n",
       "  <thead>\n",
       "    <tr style=\"text-align: right;\">\n",
       "      <th></th>\n",
       "      <th>Date</th>\n",
       "      <th>Adj Close</th>\n",
       "    </tr>\n",
       "  </thead>\n",
       "  <tbody>\n",
       "    <tr>\n",
       "      <th>0</th>\n",
       "      <td>5/15/1997</td>\n",
       "      <td>1.958333</td>\n",
       "    </tr>\n",
       "    <tr>\n",
       "      <th>1</th>\n",
       "      <td>5/16/1997</td>\n",
       "      <td>1.729167</td>\n",
       "    </tr>\n",
       "    <tr>\n",
       "      <th>2</th>\n",
       "      <td>5/19/1997</td>\n",
       "      <td>1.708333</td>\n",
       "    </tr>\n",
       "    <tr>\n",
       "      <th>3</th>\n",
       "      <td>5/20/1997</td>\n",
       "      <td>1.635417</td>\n",
       "    </tr>\n",
       "    <tr>\n",
       "      <th>4</th>\n",
       "      <td>5/21/1997</td>\n",
       "      <td>1.427083</td>\n",
       "    </tr>\n",
       "  </tbody>\n",
       "</table>\n",
       "</div>"
      ],
      "text/plain": [
       "        Date  Adj Close\n",
       "0  5/15/1997   1.958333\n",
       "1  5/16/1997   1.729167\n",
       "2  5/19/1997   1.708333\n",
       "3  5/20/1997   1.635417\n",
       "4  5/21/1997   1.427083"
      ]
     },
     "execution_count": 87,
     "metadata": {},
     "output_type": "execute_result"
    }
   ],
   "source": [
    "x.head()"
   ]
  },
  {
   "cell_type": "code",
   "execution_count": 88,
   "metadata": {},
   "outputs": [
    {
     "data": {
      "text/html": [
       "<div>\n",
       "<style scoped>\n",
       "    .dataframe tbody tr th:only-of-type {\n",
       "        vertical-align: middle;\n",
       "    }\n",
       "\n",
       "    .dataframe tbody tr th {\n",
       "        vertical-align: top;\n",
       "    }\n",
       "\n",
       "    .dataframe thead th {\n",
       "        text-align: right;\n",
       "    }\n",
       "</style>\n",
       "<table border=\"1\" class=\"dataframe\">\n",
       "  <thead>\n",
       "    <tr style=\"text-align: right;\">\n",
       "      <th></th>\n",
       "      <th>Date</th>\n",
       "      <th>Adj Close</th>\n",
       "    </tr>\n",
       "  </thead>\n",
       "  <tbody>\n",
       "    <tr>\n",
       "      <th>0</th>\n",
       "      <td>8/6/2012</td>\n",
       "      <td>26.107651</td>\n",
       "    </tr>\n",
       "    <tr>\n",
       "      <th>1</th>\n",
       "      <td>8/7/2012</td>\n",
       "      <td>26.377876</td>\n",
       "    </tr>\n",
       "    <tr>\n",
       "      <th>2</th>\n",
       "      <td>8/8/2012</td>\n",
       "      <td>26.438896</td>\n",
       "    </tr>\n",
       "    <tr>\n",
       "      <th>3</th>\n",
       "      <td>8/9/2012</td>\n",
       "      <td>26.587088</td>\n",
       "    </tr>\n",
       "    <tr>\n",
       "      <th>4</th>\n",
       "      <td>8/10/2012</td>\n",
       "      <td>26.517351</td>\n",
       "    </tr>\n",
       "  </tbody>\n",
       "</table>\n",
       "</div>"
      ],
      "text/plain": [
       "        Date  Adj Close\n",
       "0   8/6/2012  26.107651\n",
       "1   8/7/2012  26.377876\n",
       "2   8/8/2012  26.438896\n",
       "3   8/9/2012  26.587088\n",
       "4  8/10/2012  26.517351"
      ]
     },
     "execution_count": 88,
     "metadata": {},
     "output_type": "execute_result"
    }
   ],
   "source": [
    "y.head()"
   ]
  },
  {
   "cell_type": "code",
   "execution_count": 89,
   "metadata": {},
   "outputs": [],
   "source": [
    "x=x.rename(columns={\"Adj Close\": \"AMZN\"})"
   ]
  },
  {
   "cell_type": "code",
   "execution_count": 90,
   "metadata": {},
   "outputs": [],
   "source": [
    "y=y.rename(columns={\"Adj Close\": \"MSFT\"})"
   ]
  },
  {
   "cell_type": "code",
   "execution_count": 91,
   "metadata": {},
   "outputs": [],
   "source": [
    "df = x.merge(y, how='inner', on='Date')"
   ]
  },
  {
   "cell_type": "code",
   "execution_count": 92,
   "metadata": {},
   "outputs": [
    {
     "data": {
      "text/plain": [
       "(1256, 3)"
      ]
     },
     "execution_count": 92,
     "metadata": {},
     "output_type": "execute_result"
    }
   ],
   "source": [
    "df.shape"
   ]
  },
  {
   "cell_type": "code",
   "execution_count": 93,
   "metadata": {},
   "outputs": [],
   "source": [
    "df=df.set_index('Date')"
   ]
  },
  {
   "cell_type": "code",
   "execution_count": 94,
   "metadata": {},
   "outputs": [
    {
     "data": {
      "text/html": [
       "<div>\n",
       "<style scoped>\n",
       "    .dataframe tbody tr th:only-of-type {\n",
       "        vertical-align: middle;\n",
       "    }\n",
       "\n",
       "    .dataframe tbody tr th {\n",
       "        vertical-align: top;\n",
       "    }\n",
       "\n",
       "    .dataframe thead th {\n",
       "        text-align: right;\n",
       "    }\n",
       "</style>\n",
       "<table border=\"1\" class=\"dataframe\">\n",
       "  <thead>\n",
       "    <tr style=\"text-align: right;\">\n",
       "      <th></th>\n",
       "      <th>AMZN</th>\n",
       "      <th>MSFT</th>\n",
       "    </tr>\n",
       "    <tr>\n",
       "      <th>Date</th>\n",
       "      <th></th>\n",
       "      <th></th>\n",
       "    </tr>\n",
       "  </thead>\n",
       "  <tbody>\n",
       "    <tr>\n",
       "      <th>8/6/2012</th>\n",
       "      <td>233.990005</td>\n",
       "      <td>26.107651</td>\n",
       "    </tr>\n",
       "    <tr>\n",
       "      <th>8/7/2012</th>\n",
       "      <td>236.559998</td>\n",
       "      <td>26.377876</td>\n",
       "    </tr>\n",
       "    <tr>\n",
       "      <th>8/8/2012</th>\n",
       "      <td>234.380005</td>\n",
       "      <td>26.438896</td>\n",
       "    </tr>\n",
       "    <tr>\n",
       "      <th>8/9/2012</th>\n",
       "      <td>234.059998</td>\n",
       "      <td>26.587088</td>\n",
       "    </tr>\n",
       "    <tr>\n",
       "      <th>8/10/2012</th>\n",
       "      <td>232.750000</td>\n",
       "      <td>26.517351</td>\n",
       "    </tr>\n",
       "    <tr>\n",
       "      <th>...</th>\n",
       "      <td>...</td>\n",
       "      <td>...</td>\n",
       "    </tr>\n",
       "    <tr>\n",
       "      <th>7/27/2017</th>\n",
       "      <td>1046.000000</td>\n",
       "      <td>73.160004</td>\n",
       "    </tr>\n",
       "    <tr>\n",
       "      <th>7/28/2017</th>\n",
       "      <td>1020.039978</td>\n",
       "      <td>73.040001</td>\n",
       "    </tr>\n",
       "    <tr>\n",
       "      <th>7/31/2017</th>\n",
       "      <td>987.780029</td>\n",
       "      <td>72.699997</td>\n",
       "    </tr>\n",
       "    <tr>\n",
       "      <th>8/1/2017</th>\n",
       "      <td>996.190002</td>\n",
       "      <td>72.580002</td>\n",
       "    </tr>\n",
       "    <tr>\n",
       "      <th>8/2/2017</th>\n",
       "      <td>995.890015</td>\n",
       "      <td>72.260002</td>\n",
       "    </tr>\n",
       "  </tbody>\n",
       "</table>\n",
       "<p>1256 rows × 2 columns</p>\n",
       "</div>"
      ],
      "text/plain": [
       "                  AMZN       MSFT\n",
       "Date                             \n",
       "8/6/2012    233.990005  26.107651\n",
       "8/7/2012    236.559998  26.377876\n",
       "8/8/2012    234.380005  26.438896\n",
       "8/9/2012    234.059998  26.587088\n",
       "8/10/2012   232.750000  26.517351\n",
       "...                ...        ...\n",
       "7/27/2017  1046.000000  73.160004\n",
       "7/28/2017  1020.039978  73.040001\n",
       "7/31/2017   987.780029  72.699997\n",
       "8/1/2017    996.190002  72.580002\n",
       "8/2/2017    995.890015  72.260002\n",
       "\n",
       "[1256 rows x 2 columns]"
      ]
     },
     "execution_count": 94,
     "metadata": {},
     "output_type": "execute_result"
    }
   ],
   "source": [
    "df"
   ]
  },
  {
   "cell_type": "markdown",
   "metadata": {},
   "source": [
    "Let's **regress** the returns of MSFT **on** the returns of AMZN\n",
    " - so MSFT's return is y, AMZN's return is x"
   ]
  },
  {
   "cell_type": "code",
   "execution_count": 68,
   "metadata": {},
   "outputs": [],
   "source": [
    "# Import the statsmodels module\n",
    "import statsmodels.api as sm"
   ]
  },
  {
   "cell_type": "code",
   "execution_count": 106,
   "metadata": {},
   "outputs": [],
   "source": [
    "# Compute percentage changes in both series\n",
    "df['MSFT_per'] = df['MSFT'].pct_change()\n",
    "df['AMZN_per'] = df['AMZN'].pct_change()"
   ]
  },
  {
   "cell_type": "code",
   "execution_count": 96,
   "metadata": {},
   "outputs": [
    {
     "data": {
      "text/html": [
       "<div>\n",
       "<style scoped>\n",
       "    .dataframe tbody tr th:only-of-type {\n",
       "        vertical-align: middle;\n",
       "    }\n",
       "\n",
       "    .dataframe tbody tr th {\n",
       "        vertical-align: top;\n",
       "    }\n",
       "\n",
       "    .dataframe thead th {\n",
       "        text-align: right;\n",
       "    }\n",
       "</style>\n",
       "<table border=\"1\" class=\"dataframe\">\n",
       "  <thead>\n",
       "    <tr style=\"text-align: right;\">\n",
       "      <th></th>\n",
       "      <th>AMZN</th>\n",
       "      <th>MSFT</th>\n",
       "      <th>MSFT_per</th>\n",
       "      <th>AMZN_per</th>\n",
       "    </tr>\n",
       "    <tr>\n",
       "      <th>Date</th>\n",
       "      <th></th>\n",
       "      <th></th>\n",
       "      <th></th>\n",
       "      <th></th>\n",
       "    </tr>\n",
       "  </thead>\n",
       "  <tbody>\n",
       "    <tr>\n",
       "      <th>8/6/2012</th>\n",
       "      <td>233.990005</td>\n",
       "      <td>26.107651</td>\n",
       "      <td>NaN</td>\n",
       "      <td>NaN</td>\n",
       "    </tr>\n",
       "    <tr>\n",
       "      <th>8/7/2012</th>\n",
       "      <td>236.559998</td>\n",
       "      <td>26.377876</td>\n",
       "      <td>0.010350</td>\n",
       "      <td>0.010983</td>\n",
       "    </tr>\n",
       "    <tr>\n",
       "      <th>8/8/2012</th>\n",
       "      <td>234.380005</td>\n",
       "      <td>26.438896</td>\n",
       "      <td>0.002313</td>\n",
       "      <td>-0.009215</td>\n",
       "    </tr>\n",
       "    <tr>\n",
       "      <th>8/9/2012</th>\n",
       "      <td>234.059998</td>\n",
       "      <td>26.587088</td>\n",
       "      <td>0.005605</td>\n",
       "      <td>-0.001365</td>\n",
       "    </tr>\n",
       "    <tr>\n",
       "      <th>8/10/2012</th>\n",
       "      <td>232.750000</td>\n",
       "      <td>26.517351</td>\n",
       "      <td>-0.002623</td>\n",
       "      <td>-0.005597</td>\n",
       "    </tr>\n",
       "    <tr>\n",
       "      <th>...</th>\n",
       "      <td>...</td>\n",
       "      <td>...</td>\n",
       "      <td>...</td>\n",
       "      <td>...</td>\n",
       "    </tr>\n",
       "    <tr>\n",
       "      <th>7/27/2017</th>\n",
       "      <td>1046.000000</td>\n",
       "      <td>73.160004</td>\n",
       "      <td>-0.012019</td>\n",
       "      <td>-0.006459</td>\n",
       "    </tr>\n",
       "    <tr>\n",
       "      <th>7/28/2017</th>\n",
       "      <td>1020.039978</td>\n",
       "      <td>73.040001</td>\n",
       "      <td>-0.001640</td>\n",
       "      <td>-0.024818</td>\n",
       "    </tr>\n",
       "    <tr>\n",
       "      <th>7/31/2017</th>\n",
       "      <td>987.780029</td>\n",
       "      <td>72.699997</td>\n",
       "      <td>-0.004655</td>\n",
       "      <td>-0.031626</td>\n",
       "    </tr>\n",
       "    <tr>\n",
       "      <th>8/1/2017</th>\n",
       "      <td>996.190002</td>\n",
       "      <td>72.580002</td>\n",
       "      <td>-0.001651</td>\n",
       "      <td>0.008514</td>\n",
       "    </tr>\n",
       "    <tr>\n",
       "      <th>8/2/2017</th>\n",
       "      <td>995.890015</td>\n",
       "      <td>72.260002</td>\n",
       "      <td>-0.004409</td>\n",
       "      <td>-0.000301</td>\n",
       "    </tr>\n",
       "  </tbody>\n",
       "</table>\n",
       "<p>1256 rows × 4 columns</p>\n",
       "</div>"
      ],
      "text/plain": [
       "                  AMZN       MSFT  MSFT_per  AMZN_per\n",
       "Date                                                 \n",
       "8/6/2012    233.990005  26.107651       NaN       NaN\n",
       "8/7/2012    236.559998  26.377876  0.010350  0.010983\n",
       "8/8/2012    234.380005  26.438896  0.002313 -0.009215\n",
       "8/9/2012    234.059998  26.587088  0.005605 -0.001365\n",
       "8/10/2012   232.750000  26.517351 -0.002623 -0.005597\n",
       "...                ...        ...       ...       ...\n",
       "7/27/2017  1046.000000  73.160004 -0.012019 -0.006459\n",
       "7/28/2017  1020.039978  73.040001 -0.001640 -0.024818\n",
       "7/31/2017   987.780029  72.699997 -0.004655 -0.031626\n",
       "8/1/2017    996.190002  72.580002 -0.001651  0.008514\n",
       "8/2/2017    995.890015  72.260002 -0.004409 -0.000301\n",
       "\n",
       "[1256 rows x 4 columns]"
      ]
     },
     "execution_count": 96,
     "metadata": {},
     "output_type": "execute_result"
    }
   ],
   "source": [
    "df"
   ]
  },
  {
   "cell_type": "markdown",
   "metadata": {},
   "source": [
    "- drop the first row\n",
    "\n",
    "Notice that the first row of the return series is NaN. Each return is computed from two prices, so there is one less return than price. To delete the first row of NaN's, use the pandas method \"dropna\"."
   ]
  },
  {
   "cell_type": "code",
   "execution_count": 97,
   "metadata": {},
   "outputs": [],
   "source": [
    "df = df.dropna()"
   ]
  },
  {
   "cell_type": "code",
   "execution_count": 98,
   "metadata": {},
   "outputs": [
    {
     "data": {
      "text/html": [
       "<div>\n",
       "<style scoped>\n",
       "    .dataframe tbody tr th:only-of-type {\n",
       "        vertical-align: middle;\n",
       "    }\n",
       "\n",
       "    .dataframe tbody tr th {\n",
       "        vertical-align: top;\n",
       "    }\n",
       "\n",
       "    .dataframe thead th {\n",
       "        text-align: right;\n",
       "    }\n",
       "</style>\n",
       "<table border=\"1\" class=\"dataframe\">\n",
       "  <thead>\n",
       "    <tr style=\"text-align: right;\">\n",
       "      <th></th>\n",
       "      <th>AMZN</th>\n",
       "      <th>MSFT</th>\n",
       "      <th>MSFT_per</th>\n",
       "      <th>AMZN_per</th>\n",
       "    </tr>\n",
       "    <tr>\n",
       "      <th>Date</th>\n",
       "      <th></th>\n",
       "      <th></th>\n",
       "      <th></th>\n",
       "      <th></th>\n",
       "    </tr>\n",
       "  </thead>\n",
       "  <tbody>\n",
       "    <tr>\n",
       "      <th>8/7/2012</th>\n",
       "      <td>236.559998</td>\n",
       "      <td>26.377876</td>\n",
       "      <td>0.010350</td>\n",
       "      <td>0.010983</td>\n",
       "    </tr>\n",
       "    <tr>\n",
       "      <th>8/8/2012</th>\n",
       "      <td>234.380005</td>\n",
       "      <td>26.438896</td>\n",
       "      <td>0.002313</td>\n",
       "      <td>-0.009215</td>\n",
       "    </tr>\n",
       "    <tr>\n",
       "      <th>8/9/2012</th>\n",
       "      <td>234.059998</td>\n",
       "      <td>26.587088</td>\n",
       "      <td>0.005605</td>\n",
       "      <td>-0.001365</td>\n",
       "    </tr>\n",
       "    <tr>\n",
       "      <th>8/10/2012</th>\n",
       "      <td>232.750000</td>\n",
       "      <td>26.517351</td>\n",
       "      <td>-0.002623</td>\n",
       "      <td>-0.005597</td>\n",
       "    </tr>\n",
       "    <tr>\n",
       "      <th>8/13/2012</th>\n",
       "      <td>232.440002</td>\n",
       "      <td>26.491201</td>\n",
       "      <td>-0.000986</td>\n",
       "      <td>-0.001332</td>\n",
       "    </tr>\n",
       "    <tr>\n",
       "      <th>...</th>\n",
       "      <td>...</td>\n",
       "      <td>...</td>\n",
       "      <td>...</td>\n",
       "      <td>...</td>\n",
       "    </tr>\n",
       "    <tr>\n",
       "      <th>7/27/2017</th>\n",
       "      <td>1046.000000</td>\n",
       "      <td>73.160004</td>\n",
       "      <td>-0.012019</td>\n",
       "      <td>-0.006459</td>\n",
       "    </tr>\n",
       "    <tr>\n",
       "      <th>7/28/2017</th>\n",
       "      <td>1020.039978</td>\n",
       "      <td>73.040001</td>\n",
       "      <td>-0.001640</td>\n",
       "      <td>-0.024818</td>\n",
       "    </tr>\n",
       "    <tr>\n",
       "      <th>7/31/2017</th>\n",
       "      <td>987.780029</td>\n",
       "      <td>72.699997</td>\n",
       "      <td>-0.004655</td>\n",
       "      <td>-0.031626</td>\n",
       "    </tr>\n",
       "    <tr>\n",
       "      <th>8/1/2017</th>\n",
       "      <td>996.190002</td>\n",
       "      <td>72.580002</td>\n",
       "      <td>-0.001651</td>\n",
       "      <td>0.008514</td>\n",
       "    </tr>\n",
       "    <tr>\n",
       "      <th>8/2/2017</th>\n",
       "      <td>995.890015</td>\n",
       "      <td>72.260002</td>\n",
       "      <td>-0.004409</td>\n",
       "      <td>-0.000301</td>\n",
       "    </tr>\n",
       "  </tbody>\n",
       "</table>\n",
       "<p>1255 rows × 4 columns</p>\n",
       "</div>"
      ],
      "text/plain": [
       "                  AMZN       MSFT  MSFT_per  AMZN_per\n",
       "Date                                                 \n",
       "8/7/2012    236.559998  26.377876  0.010350  0.010983\n",
       "8/8/2012    234.380005  26.438896  0.002313 -0.009215\n",
       "8/9/2012    234.059998  26.587088  0.005605 -0.001365\n",
       "8/10/2012   232.750000  26.517351 -0.002623 -0.005597\n",
       "8/13/2012   232.440002  26.491201 -0.000986 -0.001332\n",
       "...                ...        ...       ...       ...\n",
       "7/27/2017  1046.000000  73.160004 -0.012019 -0.006459\n",
       "7/28/2017  1020.039978  73.040001 -0.001640 -0.024818\n",
       "7/31/2017   987.780029  72.699997 -0.004655 -0.031626\n",
       "8/1/2017    996.190002  72.580002 -0.001651  0.008514\n",
       "8/2/2017    995.890015  72.260002 -0.004409 -0.000301\n",
       "\n",
       "[1255 rows x 4 columns]"
      ]
     },
     "execution_count": 98,
     "metadata": {},
     "output_type": "execute_result"
    }
   ],
   "source": [
    "df"
   ]
  },
  {
   "cell_type": "markdown",
   "metadata": {},
   "source": [
    "- Create a constant\n",
    "\n",
    "You need to add a column of ones as a dependent, right hand side variable. The reason you have to do this is because the regression function assumes that if there is no constant column, then you want to run the regression without an intercept. By adding a column of ones, statsmodels will compute the regression coefficient of that column as well, which can be interpreted as the intercept of the line. The statsmodels method \"add constant\" is a simple way to add a constant."
   ]
  },
  {
   "cell_type": "code",
   "execution_count": 99,
   "metadata": {},
   "outputs": [
    {
     "data": {
      "text/html": [
       "<div>\n",
       "<style scoped>\n",
       "    .dataframe tbody tr th:only-of-type {\n",
       "        vertical-align: middle;\n",
       "    }\n",
       "\n",
       "    .dataframe tbody tr th {\n",
       "        vertical-align: top;\n",
       "    }\n",
       "\n",
       "    .dataframe thead th {\n",
       "        text-align: right;\n",
       "    }\n",
       "</style>\n",
       "<table border=\"1\" class=\"dataframe\">\n",
       "  <thead>\n",
       "    <tr style=\"text-align: right;\">\n",
       "      <th></th>\n",
       "      <th>const</th>\n",
       "      <th>AMZN</th>\n",
       "      <th>MSFT</th>\n",
       "      <th>MSFT_per</th>\n",
       "      <th>AMZN_per</th>\n",
       "    </tr>\n",
       "    <tr>\n",
       "      <th>Date</th>\n",
       "      <th></th>\n",
       "      <th></th>\n",
       "      <th></th>\n",
       "      <th></th>\n",
       "      <th></th>\n",
       "    </tr>\n",
       "  </thead>\n",
       "  <tbody>\n",
       "    <tr>\n",
       "      <th>8/7/2012</th>\n",
       "      <td>1.0</td>\n",
       "      <td>236.559998</td>\n",
       "      <td>26.377876</td>\n",
       "      <td>0.010350</td>\n",
       "      <td>0.010983</td>\n",
       "    </tr>\n",
       "    <tr>\n",
       "      <th>8/8/2012</th>\n",
       "      <td>1.0</td>\n",
       "      <td>234.380005</td>\n",
       "      <td>26.438896</td>\n",
       "      <td>0.002313</td>\n",
       "      <td>-0.009215</td>\n",
       "    </tr>\n",
       "    <tr>\n",
       "      <th>8/9/2012</th>\n",
       "      <td>1.0</td>\n",
       "      <td>234.059998</td>\n",
       "      <td>26.587088</td>\n",
       "      <td>0.005605</td>\n",
       "      <td>-0.001365</td>\n",
       "    </tr>\n",
       "    <tr>\n",
       "      <th>8/10/2012</th>\n",
       "      <td>1.0</td>\n",
       "      <td>232.750000</td>\n",
       "      <td>26.517351</td>\n",
       "      <td>-0.002623</td>\n",
       "      <td>-0.005597</td>\n",
       "    </tr>\n",
       "    <tr>\n",
       "      <th>8/13/2012</th>\n",
       "      <td>1.0</td>\n",
       "      <td>232.440002</td>\n",
       "      <td>26.491201</td>\n",
       "      <td>-0.000986</td>\n",
       "      <td>-0.001332</td>\n",
       "    </tr>\n",
       "    <tr>\n",
       "      <th>...</th>\n",
       "      <td>...</td>\n",
       "      <td>...</td>\n",
       "      <td>...</td>\n",
       "      <td>...</td>\n",
       "      <td>...</td>\n",
       "    </tr>\n",
       "    <tr>\n",
       "      <th>7/27/2017</th>\n",
       "      <td>1.0</td>\n",
       "      <td>1046.000000</td>\n",
       "      <td>73.160004</td>\n",
       "      <td>-0.012019</td>\n",
       "      <td>-0.006459</td>\n",
       "    </tr>\n",
       "    <tr>\n",
       "      <th>7/28/2017</th>\n",
       "      <td>1.0</td>\n",
       "      <td>1020.039978</td>\n",
       "      <td>73.040001</td>\n",
       "      <td>-0.001640</td>\n",
       "      <td>-0.024818</td>\n",
       "    </tr>\n",
       "    <tr>\n",
       "      <th>7/31/2017</th>\n",
       "      <td>1.0</td>\n",
       "      <td>987.780029</td>\n",
       "      <td>72.699997</td>\n",
       "      <td>-0.004655</td>\n",
       "      <td>-0.031626</td>\n",
       "    </tr>\n",
       "    <tr>\n",
       "      <th>8/1/2017</th>\n",
       "      <td>1.0</td>\n",
       "      <td>996.190002</td>\n",
       "      <td>72.580002</td>\n",
       "      <td>-0.001651</td>\n",
       "      <td>0.008514</td>\n",
       "    </tr>\n",
       "    <tr>\n",
       "      <th>8/2/2017</th>\n",
       "      <td>1.0</td>\n",
       "      <td>995.890015</td>\n",
       "      <td>72.260002</td>\n",
       "      <td>-0.004409</td>\n",
       "      <td>-0.000301</td>\n",
       "    </tr>\n",
       "  </tbody>\n",
       "</table>\n",
       "<p>1255 rows × 5 columns</p>\n",
       "</div>"
      ],
      "text/plain": [
       "           const         AMZN       MSFT  MSFT_per  AMZN_per\n",
       "Date                                                        \n",
       "8/7/2012     1.0   236.559998  26.377876  0.010350  0.010983\n",
       "8/8/2012     1.0   234.380005  26.438896  0.002313 -0.009215\n",
       "8/9/2012     1.0   234.059998  26.587088  0.005605 -0.001365\n",
       "8/10/2012    1.0   232.750000  26.517351 -0.002623 -0.005597\n",
       "8/13/2012    1.0   232.440002  26.491201 -0.000986 -0.001332\n",
       "...          ...          ...        ...       ...       ...\n",
       "7/27/2017    1.0  1046.000000  73.160004 -0.012019 -0.006459\n",
       "7/28/2017    1.0  1020.039978  73.040001 -0.001640 -0.024818\n",
       "7/31/2017    1.0   987.780029  72.699997 -0.004655 -0.031626\n",
       "8/1/2017     1.0   996.190002  72.580002 -0.001651  0.008514\n",
       "8/2/2017     1.0   995.890015  72.260002 -0.004409 -0.000301\n",
       "\n",
       "[1255 rows x 5 columns]"
      ]
     },
     "execution_count": 99,
     "metadata": {},
     "output_type": "execute_result"
    }
   ],
   "source": [
    "df = sm.add_constant(df)\n",
    "df"
   ]
  },
  {
   "cell_type": "markdown",
   "metadata": {},
   "source": [
    "- Run regression\n",
    "\n",
    "The first argument of the statsmodel regression is the series that represents the dependent variable, y, and the next argument contains the independent variable or variables. In this case, the dependent variable is CME_NG1's return and the independent variables are the constant and CME_HO1's return. The method \"fit\" runs the regression and results are saved in a class instance called results."
   ]
  },
  {
   "cell_type": "code",
   "execution_count": 104,
   "metadata": {},
   "outputs": [],
   "source": [
    "# Regress y on dfx1\n",
    "result = sm.OLS(df['MSFT_per'],df[['const','AMZN_per']]).fit()"
   ]
  },
  {
   "cell_type": "code",
   "execution_count": 105,
   "metadata": {},
   "outputs": [
    {
     "name": "stdout",
     "output_type": "stream",
     "text": [
      "                            OLS Regression Results                            \n",
      "==============================================================================\n",
      "Dep. Variable:               MSFT_per   R-squared:                       0.143\n",
      "Model:                            OLS   Adj. R-squared:                  0.142\n",
      "Method:                 Least Squares   F-statistic:                     208.8\n",
      "Date:                Fri, 05 Feb 2021   Prob (F-statistic):           6.99e-44\n",
      "Time:                        18:10:07   Log-Likelihood:                 3656.5\n",
      "No. Observations:                1255   AIC:                            -7309.\n",
      "Df Residuals:                    1253   BIC:                            -7299.\n",
      "Df Model:                           1                                         \n",
      "Covariance Type:            nonrobust                                         \n",
      "==============================================================================\n",
      "                 coef    std err          t      P>|t|      [0.025      0.975]\n",
      "------------------------------------------------------------------------------\n",
      "const          0.0005      0.000      1.410      0.159      -0.000       0.001\n",
      "AMZN_per       0.2933      0.020     14.449      0.000       0.253       0.333\n",
      "==============================================================================\n",
      "Omnibus:                      271.784   Durbin-Watson:                   2.003\n",
      "Prob(Omnibus):                  0.000   Jarque-Bera (JB):             7144.880\n",
      "Skew:                          -0.322   Prob(JB):                         0.00\n",
      "Kurtosis:                      14.671   Cond. No.                         54.7\n",
      "==============================================================================\n",
      "\n",
      "Notes:\n",
      "[1] Standard Errors assume that the covariance matrix of the errors is correctly specified.\n"
     ]
    }
   ],
   "source": [
    "print(result.summary())"
   ]
  },
  {
   "cell_type": "code",
   "execution_count": 115,
   "metadata": {},
   "outputs": [
    {
     "name": "stdout",
     "output_type": "stream",
     "text": [
      "0.0005247197315760164\n",
      "0.29329774045160534\n"
     ]
    }
   ],
   "source": [
    "intercept=result.params[0]\n",
    "print(intercept)\n",
    "slope=result.params[1]\n",
    "print(slope)"
   ]
  },
  {
   "cell_type": "markdown",
   "metadata": {},
   "source": [
    "- the coefficent is the slope of the regression, which is also referred to as beta\n",
    "- The R-squared measures how well the linear regression line fits the data\n",
    "- The magnitude of the correlation is the square root of the R-squared\n",
    "- And the sign of the correlation is the sign of the slope of the regression line"
   ]
  },
  {
   "cell_type": "code",
   "execution_count": 108,
   "metadata": {},
   "outputs": [
    {
     "name": "stdout",
     "output_type": "stream",
     "text": [
      "Correlation of percent changes:  0.3777380948824798\n"
     ]
    }
   ],
   "source": [
    "correlation = df['AMZN_per'].corr(df['MSFT_per'])\n",
    "print(\"Correlation of percent changes: \", correlation)"
   ]
  },
  {
   "cell_type": "code",
   "execution_count": 111,
   "metadata": {},
   "outputs": [
    {
     "data": {
      "text/plain": [
       "0.3781534080237807"
      ]
     },
     "execution_count": 111,
     "metadata": {},
     "output_type": "execute_result"
    }
   ],
   "source": [
    "np.sqrt(0.143)"
   ]
  },
  {
   "cell_type": "code",
   "execution_count": null,
   "metadata": {},
   "outputs": [],
   "source": []
  },
  {
   "cell_type": "code",
   "execution_count": null,
   "metadata": {},
   "outputs": [],
   "source": []
  }
 ],
 "metadata": {
  "kernelspec": {
   "display_name": "Python 3",
   "language": "python",
   "name": "python3"
  },
  "language_info": {
   "codemirror_mode": {
    "name": "ipython",
    "version": 3
   },
   "file_extension": ".py",
   "mimetype": "text/x-python",
   "name": "python",
   "nbconvert_exporter": "python",
   "pygments_lexer": "ipython3",
   "version": "3.8.5"
  }
 },
 "nbformat": 4,
 "nbformat_minor": 4
}
